{
 "cells": [
  {
   "cell_type": "markdown",
   "metadata": {},
   "source": [
    "## Predict climbing strength:  \"The V grade you can send 90-100% of routes\" (Fitness values)"
   ]
  },
  {
   "cell_type": "code",
   "execution_count": null,
   "metadata": {},
   "outputs": [],
   "source": [
    "import pandas as pd\n",
    "Data = pd.read_csv(\"formatted_data/formatted_data_all.csv\")\n",
    "\n",
    "fitness_columns = [\"Max_pull_up_reps\", \"5_rep_max_weighted_pull_ups\", \"max_push_ups_reps\", \"max_L-sit_time_\"]\n",
    "\n",
    "y = Data['Hardest_V_Grade_ever_climbed_']\n",
    "X = Data[fitness_columns]\n",
    "print(y.shape, X.shape)"
   ]
  },
  {
   "cell_type": "code",
   "execution_count": null,
   "metadata": {},
   "outputs": [],
   "source": []
  }
 ],
 "metadata": {
  "kernelspec": {
   "display_name": "Python 3",
   "language": "python",
   "name": "python3"
  },
  "language_info": {
   "name": "python",
   "version": "3.12.2"
  }
 },
 "nbformat": 4,
 "nbformat_minor": 2
}
